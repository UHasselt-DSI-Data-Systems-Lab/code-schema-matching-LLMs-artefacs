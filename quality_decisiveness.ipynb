{
 "cells": [
  {
   "cell_type": "code",
   "execution_count": null,
   "id": "42df5d32-21dd-434e-a858-1a7755e0c09f",
   "metadata": {},
   "outputs": [],
   "source": [
    "import pandas as pd"
   ]
  },
  {
   "cell_type": "code",
   "execution_count": null,
   "id": "38e444c0-cf38-4930-9b2f-e86a60f671ab",
   "metadata": {},
   "outputs": [],
   "source": [
    "all_decisions_df = pd.read_csv(\"results/all_decisions_df.csv\")\n",
    "all_decisions_df.fillna({\"model\": \"\"}, inplace=True)"
   ]
  },
  {
   "cell_type": "code",
   "execution_count": null,
   "id": "9a787655-ac77-4a5c-b230-3129dd2da01f",
   "metadata": {},
   "outputs": [],
   "source": [
    "decision_counts = pd.pivot(\n",
    "    all_decisions_df.query(\"task_scope != 'n-gram'\").groupby(\n",
    "        [\"model\", \"task_scope\", \"dataset\", \"experiment_run\", \"decision\"]\n",
    "    )[\"benchmark\"].count().reset_index(),\n",
    "    index=[\"dataset\", \"model\", \"task_scope\", \"experiment_run\"],\n",
    "    columns=\"decision\",\n",
    "    values=[\"benchmark\"],\n",
    ").fillna(0).reset_index()\n",
    "\n",
    "decision_counts[\"decisiveness\"] = (\n",
    "    decision_counts.loc[:, (slice(None), [\"no\", \"yes\"])].sum(axis=\"columns\") /\n",
    "    decision_counts.loc[:, (slice(None), [\"no\", \"unknown\", \"yes\"])].sum(axis=\"columns\")\n",
    ")\n",
    "\n",
    "decisiveness_table = pd.pivot(\n",
    "    decision_counts.groupby([\"dataset\", \"model\", \"task_scope\"])[\"decisiveness\"].mean().reset_index(),\n",
    "    index=\"dataset\",\n",
    "    columns=[\"model\", \"task_scope\"],\n",
    "    values=\"decisiveness\",\n",
    ")"
   ]
  },
  {
   "cell_type": "code",
   "execution_count": null,
   "id": "3f327bfa-5dff-40d2-8189-b5cb747d5503",
   "metadata": {},
   "outputs": [],
   "source": [
    "import plotly.graph_objects as go\n",
    "\n",
    "fig = go.Figure(\n",
    "    data=go.Heatmap(\n",
    "        x=(decisiveness_table.columns.get_level_values(0), decisiveness_table.columns.get_level_values(1)),\n",
    "        y=decisiveness_table.index,\n",
    "        z=decisiveness_table.values,\n",
    "        text=decisiveness_table.values,\n",
    "        texttemplate=\"%{text:.3f}\",\n",
    "        textfont={\"size\": 16},\n",
    "        colorscale=\"PrGn\",\n",
    "        zmin=-1.0,\n",
    "        zmax=1.0,\n",
    "        showscale=False,\n",
    "    ),\n",
    "    layout=dict(\n",
    "        title=\"Average fraction of non-unknown decisions per task scope\",\n",
    "        height=600,\n",
    "        width=1000,\n",
    "        yaxis={\"autorange\": \"reversed\"},\n",
    "    ),\n",
    ")\n",
    "fig.show()"
   ]
  },
  {
   "cell_type": "code",
   "execution_count": null,
   "id": "f0ae43d3-1d89-4ab8-a58a-aaf53d5276b9",
   "metadata": {},
   "outputs": [],
   "source": []
  }
 ],
 "metadata": {
  "kernelspec": {
   "display_name": "Python 3 (ipykernel)",
   "language": "python",
   "name": "python3"
  },
  "language_info": {
   "codemirror_mode": {
    "name": "ipython",
    "version": 3
   },
   "file_extension": ".py",
   "mimetype": "text/x-python",
   "name": "python",
   "nbconvert_exporter": "python",
   "pygments_lexer": "ipython3",
   "version": "3.12.3"
  }
 },
 "nbformat": 4,
 "nbformat_minor": 5
}
